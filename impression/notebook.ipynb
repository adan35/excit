{
 "cells": [
  {
   "attachments": {},
   "cell_type": "markdown",
   "id": "ca64ac1e",
   "metadata": {},
   "source": [
    "#### Importing the Libraries"
   ]
  },
  {
   "cell_type": "code",
   "execution_count": 1,
   "id": "543a0807",
   "metadata": {},
   "outputs": [],
   "source": [
    "import pandas as pd\n",
    "import numpy as np\n",
    "import seaborn as sns\n",
    "import matplotlib.pyplot as plt\n",
    "%matplotlib inline \n",
    "import os"
   ]
  },
  {
   "cell_type": "code",
   "execution_count": 2,
   "id": "2e024056",
   "metadata": {},
   "outputs": [],
   "source": [
    "from tensorflow.keras.utils import plot_model\n",
    "import plotly.graph_objects as go\n",
    "from plotly.subplots import make_subplots\n",
    "from IPython.display import SVG, Image\n",
    "import tensorflow as tf\n",
    "from tensorflow.keras.layers import Conv2D,MaxPooling2D,Dense,Flatten,Dropout\n",
    "from keras.optimizers import Adam\n",
    "from keras.models import Sequential"
   ]
  },
  {
   "cell_type": "code",
   "execution_count": 3,
   "id": "078e329b",
   "metadata": {},
   "outputs": [],
   "source": [
    "from tensorflow.keras.preprocessing.image import ImageDataGenerator, load_img, img_to_array"
   ]
  },
  {
   "attachments": {},
   "cell_type": "markdown",
   "id": "a14521dc",
   "metadata": {},
   "source": [
    "#### Plot the Images and thier Labels on Test Data"
   ]
  },
  {
   "cell_type": "code",
   "execution_count": null,
   "id": "be316a02",
   "metadata": {},
   "outputs": [],
   "source": [
    "def plot_images(plt,test_path,figsize):\n",
    "    img_size = 48\n",
    "    plt.figure(0, figsize=figsize)\n",
    "    ctr = 0\n",
    "    for expression in os.listdir(test_path):\n",
    "        for i in range(1,6):\n",
    "            ctr += 1\n",
    "            plt.subplot(7,5,ctr)\n",
    "            img = load_img(test_path + expression + \"/\" +os.listdir(test_path + expression)[i], target_size=(img_size, img_size))\n",
    "            plt.imshow(img, cmap=\"gray\")\n",
    "            plt.title(expression)\n",
    "            plt.axis('off')\n",
    "\n",
    "    plt.tight_layout()\n",
    "    return plt"
   ]
  },
  {
   "cell_type": "code",
   "execution_count": null,
   "id": "0087f260",
   "metadata": {},
   "outputs": [],
   "source": [
    "plot_images(plt,\"../facial emtion/test_2/\",(12,20)).show()"
   ]
  },
  {
   "cell_type": "code",
   "execution_count": null,
   "id": "13defdfa",
   "metadata": {},
   "outputs": [],
   "source": [
    "####Plot the images and thier labels on train data"
   ]
  },
  {
   "cell_type": "code",
   "execution_count": null,
   "id": "9634698a",
   "metadata": {},
   "outputs": [],
   "source": [
    "def plot_images(plt,train_path,figsize):\n",
    "    img_size = 48\n",
    "    plt.figure(0, figsize=figsize)\n",
    "    ctr = 0\n",
    "    for expression in os.listdir(train_path):\n",
    "        for i in range(1,6):\n",
    "            ctr += 1\n",
    "            plt.subplot(7,5,ctr)\n",
    "            img = load_img(train_path + expression + \"/\" +os.listdir(train_path + expression)[i], target_size=(img_size, img_size))\n",
    "            plt.imshow(img, cmap=\"gray\")\n",
    "            plt.title(expression)\n",
    "            plt.axis('off')\n",
    "\n",
    "    plt.tight_layout()\n",
    "    return plt"
   ]
  },
  {
   "cell_type": "code",
   "execution_count": null,
   "id": "a64ba6a0",
   "metadata": {},
   "outputs": [],
   "source": [
    "plot_images(plt,\"../facial emtion/train_2/\",(12,20)).show()"
   ]
  },
  {
   "attachments": {},
   "cell_type": "markdown",
   "id": "63ea88db",
   "metadata": {},
   "source": [
    "#### Visualize the Number of Images of the Training Data"
   ]
  },
  {
   "cell_type": "code",
   "execution_count": null,
   "id": "419bfcde",
   "metadata": {},
   "outputs": [],
   "source": [
    "df = {}\n",
    "for expression in os.listdir(\"../facial emtion/train_2/\"):\n",
    "    directory = \"../facial emtion/train_2/\" + expression\n",
    "    df[expression] = len(os.listdir(directory))\n",
    "df = pd.DataFrame(df, index=[0])"
   ]
  },
  {
   "cell_type": "code",
   "execution_count": null,
   "id": "5bfc69ee",
   "metadata": {},
   "outputs": [],
   "source": [
    "pd.options.plotting.backend = \"plotly\"\n",
    "fig = df.transpose().plot.bar()\n",
    "fig.show()"
   ]
  },
  {
   "attachments": {},
   "cell_type": "markdown",
   "id": "1382df80",
   "metadata": {},
   "source": [
    "#### Visualize the Number of Images of Test Data"
   ]
  },
  {
   "cell_type": "code",
   "execution_count": null,
   "id": "492ba5ed",
   "metadata": {},
   "outputs": [],
   "source": [
    "df = {}\n",
    "for expression in os.listdir(\"../facial emtion/test_2/\"):\n",
    "    directory = \"../facial emtion/test_2/\" + expression\n",
    "    df[expression] = len(os.listdir(directory))\n",
    "df = pd.DataFrame(df, index=[0])"
   ]
  },
  {
   "cell_type": "code",
   "execution_count": null,
   "id": "f4106dfd",
   "metadata": {},
   "outputs": [],
   "source": [
    "pd.options.plotting.backend = \"plotly\"\n",
    "fig = df.transpose().plot.bar()\n",
    "fig.show()"
   ]
  },
  {
   "attachments": {},
   "cell_type": "markdown",
   "id": "451e5b86",
   "metadata": {},
   "source": [
    "#### Count the Number of Images of each Emotion of the Train Data"
   ]
  },
  {
   "cell_type": "code",
   "execution_count": null,
   "id": "7e87002f",
   "metadata": {},
   "outputs": [],
   "source": [
    "for expression in os.listdir('../facial emtion/train_2/'):\n",
    "    print(expression, \"folder contains\\t\\t\", len(os.listdir('../facial emtion/train_2/'+expression)), \"images\")"
   ]
  },
  {
   "attachments": {},
   "cell_type": "markdown",
   "id": "222feb56",
   "metadata": {},
   "source": [
    "#### Count the Number of Images of each Emtion in the Test Data"
   ]
  },
  {
   "cell_type": "code",
   "execution_count": null,
   "id": "112539cb",
   "metadata": {},
   "outputs": [],
   "source": [
    "for expression in os.listdir('../facial emtion/test_2/'):\n",
    "    print(expression, \"folder contains\\t\\t\", len(os.listdir('../facial emtion/test_2/'+expression)), \"images\")"
   ]
  },
  {
   "attachments": {},
   "cell_type": "markdown",
   "id": "377b9b35",
   "metadata": {},
   "source": [
    "#### Plot one Image of each Emotion of the Train Data"
   ]
  },
  {
   "cell_type": "code",
   "execution_count": null,
   "id": "466d8546",
   "metadata": {},
   "outputs": [],
   "source": [
    "i = 1\n",
    "plt.figure(figsize=(8,8))\n",
    "for expression in os.listdir('../facial emtion/train_2/'):\n",
    "    \n",
    "    img = load_img(('../facial emtion/train_2/' + expression +'/'+ os.listdir('../facial emtion/train_2/' + expression)[1]))\n",
    "    plt.subplot(1,7,i)\n",
    "    plt.imshow(img)\n",
    "    plt.title(expression)\n",
    "    plt.axis('off')\n",
    "    i += 1\n",
    "    \n",
    "plt.show()"
   ]
  },
  {
   "attachments": {},
   "cell_type": "markdown",
   "id": "7d201677",
   "metadata": {},
   "source": [
    "#### Plot one Image of each Emotion of the Test Data"
   ]
  },
  {
   "cell_type": "code",
   "execution_count": null,
   "id": "19f17fb1",
   "metadata": {},
   "outputs": [],
   "source": [
    "i = 1\n",
    "plt.figure(figsize=(8,8))\n",
    "for expression in os.listdir('../facial emtion/test_2/'):\n",
    "    \n",
    "    img = load_img(('../facial emtion/test_2/' + expression +'/'+ os.listdir('../facial emtion/test_2/' + expression)[1]))\n",
    "    plt.subplot(1,7,i)\n",
    "    plt.imshow(img)\n",
    "    plt.title(expression)\n",
    "    plt.axis('off')\n",
    "    i += 1\n",
    "    \n",
    "plt.show()"
   ]
  }
 ],
 "metadata": {
  "kernelspec": {
   "display_name": "Python 3",
   "language": "python",
   "name": "python3"
  },
  "language_info": {
   "codemirror_mode": {
    "name": "ipython",
    "version": 3
   },
   "file_extension": ".py",
   "mimetype": "text/x-python",
   "name": "python",
   "nbconvert_exporter": "python",
   "pygments_lexer": "ipython3",
   "version": "3.10.7 (tags/v3.10.7:6cc6b13, Sep  5 2022, 14:08:36) [MSC v.1933 64 bit (AMD64)]"
  },
  "vscode": {
   "interpreter": {
    "hash": "e593ac106456af50ce7af38f9671c411b49d6cd90f9b885e167f0f594e09038c"
   }
  }
 },
 "nbformat": 4,
 "nbformat_minor": 5
}
