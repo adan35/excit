{
 "cells": [
  {
   "cell_type": "markdown",
   "id": "e8a79f76",
   "metadata": {},
   "source": [
    "# Plot the images and thier labels"
   ]
  },
  {
   "cell_type": "code",
   "execution_count": null,
   "id": "65efb3bb",
   "metadata": {},
   "outputs": [],
   "source": [
    "def plot_example_images(plt):\n",
    "    img_size = 48\n",
    "    plt.figure(0, figsize=(12,20))\n",
    "    ctr = 0\n",
    "    for expression in os.listdir(\"../facial emtion/test_2\"):\n",
    "        for i in range(1,6):\n",
    "            ctr += 1\n",
    "            plt.subplot(7,5,ctr)\n",
    "            img = load_img(\"../facial emtion/test_2/\" + expression + \"/\" +os.listdir(\"../facial emtion/test_2/\" + expression)[i], target_size=(img_size, img_size))\n",
    "            plt.imshow(img, cmap=\"gray\")\n",
    "            plt.title(expression)\n",
    "            plt.axis('off')\n",
    "\n",
    "    plt.tight_layout()\n",
    "    return plt"
   ]
  },
  {
   "cell_type": "code",
   "execution_count": null,
   "id": "d109fd56",
   "metadata": {},
   "outputs": [],
   "source": [
    "plot_example_images(plt).show()"
   ]
  },
  {
   "cell_type": "markdown",
   "id": "aa8a2d86",
   "metadata": {},
   "source": [
    "# Visualize the number of images of training data"
   ]
  },
  {
   "cell_type": "code",
   "execution_count": null,
   "id": "b526fcaa",
   "metadata": {},
   "outputs": [],
   "source": [
    "df = {}\n",
    "for expression in os.listdir(\"../facial emtion/train_2/\"):\n",
    "    directory = \"../facial emtion/train_2/\" + expression\n",
    "    df[expression] = len(os.listdir(directory))\n",
    "df = pd.DataFrame(df, index=[0])"
   ]
  },
  {
   "cell_type": "code",
   "execution_count": null,
   "id": "d2e1725d",
   "metadata": {},
   "outputs": [],
   "source": [
    "pd.options.plotting.backend = \"plotly\"\n",
    "fig = df.transpose().plot.bar()\n",
    "fig.show()"
   ]
  },
  {
   "cell_type": "markdown",
   "id": "3ea9aae4",
   "metadata": {},
   "source": [
    "# Visualize the number of images of test data"
   ]
  },
  {
   "cell_type": "code",
   "execution_count": null,
   "id": "da7e3435",
   "metadata": {},
   "outputs": [],
   "source": [
    "df = {}\n",
    "for expression in os.listdir(\"../facial emtion/test_2/\"):\n",
    "    directory = \"../facial emtion/test_2/\" + expression\n",
    "    df[expression] = len(os.listdir(directory))\n",
    "df = pd.DataFrame(df, index=[0])"
   ]
  },
  {
   "cell_type": "code",
   "execution_count": null,
   "id": "3bce0d6f",
   "metadata": {},
   "outputs": [],
   "source": [
    "pd.options.plotting.backend = \"plotly\"\n",
    "fig = df.transpose().plot.bar()\n",
    "fig.show()"
   ]
  },
  {
   "cell_type": "markdown",
   "id": "1f9b2d54",
   "metadata": {},
   "source": [
    "# Count the number of images of each emotion of train data"
   ]
  },
  {
   "cell_type": "code",
   "execution_count": 1,
   "id": "616c03cb",
   "metadata": {},
   "outputs": [
    {
     "ename": "NameError",
     "evalue": "name 'os' is not defined",
     "output_type": "error",
     "traceback": [
      "\u001b[1;31m---------------------------------------------------------------------------\u001b[0m",
      "\u001b[1;31mNameError\u001b[0m                                 Traceback (most recent call last)",
      "\u001b[1;32m~\\AppData\\Local\\Temp\\ipykernel_4972\\655921649.py\u001b[0m in \u001b[0;36m<module>\u001b[1;34m\u001b[0m\n\u001b[0;32m      1\u001b[0m \u001b[1;31m#check the amount of data in each folder in training dataset\u001b[0m\u001b[1;33m\u001b[0m\u001b[1;33m\u001b[0m\u001b[0m\n\u001b[1;32m----> 2\u001b[1;33m \u001b[1;32mfor\u001b[0m \u001b[0mexpression\u001b[0m \u001b[1;32min\u001b[0m \u001b[0mos\u001b[0m\u001b[1;33m.\u001b[0m\u001b[0mlistdir\u001b[0m\u001b[1;33m(\u001b[0m\u001b[1;34m'../facial emtion/train_2/'\u001b[0m\u001b[1;33m)\u001b[0m\u001b[1;33m:\u001b[0m\u001b[1;33m\u001b[0m\u001b[1;33m\u001b[0m\u001b[0m\n\u001b[0m\u001b[0;32m      3\u001b[0m     \u001b[0mprint\u001b[0m\u001b[1;33m(\u001b[0m\u001b[0mexpression\u001b[0m\u001b[1;33m,\u001b[0m \u001b[1;34m\"folder contains\\t\\t\"\u001b[0m\u001b[1;33m,\u001b[0m \u001b[0mlen\u001b[0m\u001b[1;33m(\u001b[0m\u001b[0mos\u001b[0m\u001b[1;33m.\u001b[0m\u001b[0mlistdir\u001b[0m\u001b[1;33m(\u001b[0m\u001b[1;34m'../facial emtion/train_2/'\u001b[0m\u001b[1;33m+\u001b[0m\u001b[0mexpression\u001b[0m\u001b[1;33m)\u001b[0m\u001b[1;33m)\u001b[0m\u001b[1;33m,\u001b[0m \u001b[1;34m\"images\"\u001b[0m\u001b[1;33m)\u001b[0m\u001b[1;33m\u001b[0m\u001b[1;33m\u001b[0m\u001b[0m\n",
      "\u001b[1;31mNameError\u001b[0m: name 'os' is not defined"
     ]
    }
   ],
   "source": [
    "#check the amount of data in each folder in training dataset\n",
    "for expression in os.listdir('../facial emtion/train_2/'):\n",
    "    print(expression, \"folder contains\\t\\t\", len(os.listdir('../facial emtion/train_2/'+expression)), \"images\")"
   ]
  },
  {
   "cell_type": "markdown",
   "id": "47dafcfb",
   "metadata": {},
   "source": [
    "# Count the number of images of each emtion in test data"
   ]
  },
  {
   "cell_type": "code",
   "execution_count": null,
   "id": "05faf642",
   "metadata": {},
   "outputs": [],
   "source": [
    "#check the amount of data in each folder in testing dataset\n",
    "for expression in os.listdir('../facial emtion/test_2/'):\n",
    "    print(expression, \"folder contains\\t\\t\", len(os.listdir('../facial emtion/test_2/'+expression)), \"images\")"
   ]
  },
  {
   "cell_type": "markdown",
   "id": "c2c9e752",
   "metadata": {},
   "source": [
    "# plot 1 image of each emotion of train data"
   ]
  },
  {
   "cell_type": "code",
   "execution_count": null,
   "id": "0fcb92ef",
   "metadata": {},
   "outputs": [],
   "source": [
    "i = 1\n",
    "plt.figure(figsize=(8,8))\n",
    "for expression in os.listdir('../facial emtion/train_2/'):\n",
    "    \n",
    "    img = load_img(('../facial emtion/train_2/' + expression +'/'+ os.listdir('../facial emtion/train_2/' + expression)[1]))\n",
    "    plt.subplot(1,7,i)\n",
    "    plt.imshow(img)\n",
    "    plt.title(expression)\n",
    "    plt.axis('off')\n",
    "    i += 1\n",
    "    \n",
    "plt.show()"
   ]
  },
  {
   "cell_type": "markdown",
   "id": "73ff9344",
   "metadata": {},
   "source": [
    "# plot 1 image of each emotion of test data"
   ]
  },
  {
   "cell_type": "code",
   "execution_count": null,
   "id": "10e4159c",
   "metadata": {},
   "outputs": [],
   "source": [
    "i = 1\n",
    "plt.figure(figsize=(8,8))\n",
    "for expression in os.listdir('../facial emtion/test_2/'):\n",
    "    \n",
    "    img = load_img(('../facial emtion/test_2/' + expression +'/'+ os.listdir('../facial emtion/test_2/' + expression)[1]))\n",
    "    plt.subplot(1,7,i)\n",
    "    plt.imshow(img)\n",
    "    plt.title(expression)\n",
    "    plt.axis('off')\n",
    "    i += 1\n",
    "    \n",
    "plt.show()"
   ]
  }
 ],
 "metadata": {
  "kernelspec": {
   "display_name": "Python 3 (ipykernel)",
   "language": "python",
   "name": "python3"
  },
  "language_info": {
   "codemirror_mode": {
    "name": "ipython",
    "version": 3
   },
   "file_extension": ".py",
   "mimetype": "text/x-python",
   "name": "python",
   "nbconvert_exporter": "python",
   "pygments_lexer": "ipython3",
   "version": "3.9.13"
  }
 },
 "nbformat": 4,
 "nbformat_minor": 5
}
